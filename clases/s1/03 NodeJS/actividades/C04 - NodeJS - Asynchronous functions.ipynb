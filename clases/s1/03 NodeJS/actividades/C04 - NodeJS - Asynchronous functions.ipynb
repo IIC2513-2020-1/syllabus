{
 "cells": [
  {
   "cell_type": "markdown",
   "metadata": {},
   "source": [
    "# Funciones Asíncronas\n",
    "\n",
    "Ya revisamos que podemos ejecutar funciones no bloqueantes y, luego de que termine el procesamiento ejecutar otras funciones. En clases revisamos callbacks y promesas (`async/await`).\n",
    "\n",
    "En esta oportunidad veremos ejercicios simples, durante el semestre avanzaremos y revisaremos situaciones más complicadas."
   ]
  },
  {
   "cell_type": "markdown",
   "metadata": {},
   "source": [
    "## Callbacks\n",
    "\n",
    "Los callbacks son funciones que son llamadas luego de que una instrucción asíncrona termina. Realizaremos un ejercicio en donde deberán usar callbacks para completar la información requerida.\n",
    "\n",
    "### Importando funciones que nos ayudarán\n",
    "\n",
    "En el siguiente bloque importaremos algunas funciones que nos permitirán realizar el siguiente ejercicio:"
   ]
  },
  {
   "cell_type": "code",
   "execution_count": null,
   "metadata": {},
   "outputs": [],
   "source": [
    "const getDataWithCallbacks = require('/home/gpvidal/C04/callback-functions');"
   ]
  },
  {
   "cell_type": "markdown",
   "metadata": {},
   "source": [
    "Al ejecutar la linea anterior, hemos importado:\n",
    "\n",
    "* `getCourseName(id, callback)`: Función que recibe un `string` con la sigla del curso y un callback, que recibe un parámetro con la respuesta (`string`), que se ejecuta al terminar de procesar. Retorna el nombre del curso.\n",
    "\n",
    "\n",
    "* `getCourseTeacher(id, callback)`: Función que recibe un `string` con la sigla del curso y un callback, que recibe un parámetro con la respuesta (`string`), que se ejecuta al terminar de procesar. Retorna el nombre del profesor del curso.\n",
    "\n",
    "\n",
    "* `getCourseStudentsCount(id, callback)`: Función que recibe un `string` con la sigla del curso y un callback, que recibe un parámetro con la respuesta (`string`), que se ejecuta al terminar de procesar. Retorna la cantidad de alumnos de un curso.\n",
    "\n",
    "Puedes llamar a estas funciones de la forma: `getDataWithCallbacks.getCourseName(id, callback);`.\n",
    "\n",
    "**Nota:** Dado que las anteriores funciones son asíncronas, las funciones **NO RETORNARÁN INMEDIATAMENTE**. La ejecución podría demorar un máximo de 10 segundos."
   ]
  },
  {
   "cell_type": "markdown",
   "metadata": {},
   "source": [
    "### Ejercicio 1\n",
    "\n",
    "Completa el siguiente trozo de código para que, una vez terminada la ejecución, imprima algo en consola similar a lo siguiente luego de haber solicitado los datos del curso IIC2513:\n",
    "\n",
    "```\n",
    "{\n",
    "    identifier: 'IIC2513',\n",
    "    name: 'Tecnologías y Aplicaciones Web',\n",
    "    teacher: 'Vidal Gabriel',\n",
    "    students: 69,\n",
    "}\n",
    "```\n",
    "\n",
    "Recuerda que para \"mutar\" un objeto, puede hacerlo de esta forma:\n",
    "```javascript\n",
    "const newObject = {};\n",
    "newObject.property = <value>;\n",
    "```"
   ]
  },
  {
   "cell_type": "code",
   "execution_count": null,
   "metadata": {},
   "outputs": [],
   "source": [
    "function getCourseInfoCallback() {\n",
    "    // Objeto para guardar la información\n",
    "    const courseInfo = {};\n",
    "    \n",
    "    /**\n",
    "     * Puedes probar con otros identificadores, como:\n",
    "     * IIC2613, IIC3757, IIC1253, IIC2133 y IIC2154\n",
    "     */\n",
    "    courseInfo.identifier = 'IIC2513';\n",
    "    \n",
    "    // BEGIN SOLUTION\n",
    "    \n",
    "    // END SOLUTION\n",
    "}"
   ]
  },
  {
   "cell_type": "markdown",
   "metadata": {},
   "source": [
    "Puedes probar tu código con el siguiente bloque (Recuerda que su ejecución **DEMORARÁ** hasta 10 segundos):"
   ]
  },
  {
   "cell_type": "code",
   "execution_count": null,
   "metadata": {},
   "outputs": [],
   "source": [
    "getCourseInfoCallback();"
   ]
  },
  {
   "cell_type": "markdown",
   "metadata": {},
   "source": [
    "**Resultado esperado:**\n",
    "```\n",
    "{\"identifier\":\"IIC2513\",\"name\":\"Tecnologías y Aplicaciones Web\",\"teacher\":\"Vidal Gabriel\",\"students\":69}\n",
    "```"
   ]
  },
  {
   "cell_type": "markdown",
   "metadata": {},
   "source": [
    "### Ejercicio 2\n",
    "\n",
    "Ejecuta el siguiente bloque e intenta explicar qué sucede con la ejecución:  \n",
    "Recuerda que la ejecución **VA A DEMORAR**."
   ]
  },
  {
   "cell_type": "code",
   "execution_count": null,
   "metadata": {},
   "outputs": [],
   "source": [
    "console.log(\"Before async method\");\n",
    "getCourseInfoCallback();\n",
    "console.log(\"After async method\");"
   ]
  },
  {
   "cell_type": "markdown",
   "metadata": {},
   "source": [
    "## Promesas\n",
    "\n",
    "Las promesas son objetos que representan la finalización eventual (o una falla) en una operación asíncrona. Se dice que la promesa \"resuelve\" cuando no hay falla y es rechazada cuando lo hay. Esto se debe a los dos estados finales:\n",
    "\n",
    "```javascript\n",
    "const resolvedPromise = Promise.resolve('OK'); // Promesa resuelta\n",
    "const rejectedPromise = Promise.reject('ERROR'); // Promesa rechazada\n",
    "```\n",
    "\n",
    "Las promesas tienen tres estados que son:\n",
    "\n",
    "* pending\n",
    "* resolved\n",
    "* rejected\n",
    "\n",
    "Además tienen dos métodos que son:\n",
    "\n",
    "```javascript\n",
    "/**\n",
    " * Permite ejecutar una función después de que la promesa se resuelve.\n",
    " * Se pueden encadenar varios 'then'.\n",
    " */\n",
    "resolvedPromise\n",
    "    .then(function() {...})\n",
    "    .then(function() {...});\n",
    "\n",
    "/**\n",
    " * Permite ejecutar una función después de que la promesa falla.\n",
    " * Se pueden encadenar despues de varios 'then'.\n",
    " */\n",
    "\n",
    "rejectedPromise\n",
    "    .then(function() {...})\n",
    "    .then(function() {...})\n",
    "    .catch(function(error) {...});\n",
    "```"
   ]
  },
  {
   "cell_type": "markdown",
   "metadata": {},
   "source": [
    "### Cargando nuevas funciones\n",
    "\n",
    "Al igual que en el caso de los callbacks, usaremos funciones que nos ayudarán en el caso de las promesas. Ejecuta el siguiente trozo de código para cargarlas:"
   ]
  },
  {
   "cell_type": "code",
   "execution_count": null,
   "metadata": {},
   "outputs": [],
   "source": [
    "const getDataWithPromises = require('/home/gpvidal/C04/promise-functions');"
   ]
  },
  {
   "cell_type": "markdown",
   "metadata": {},
   "source": [
    "Al ejecutar la linea anterior, hemos importado:\n",
    "\n",
    "* `getCourseName(id)`: Función que recibe un `string` con la sigla del curso. Retorna una promesa.\n",
    "\n",
    "\n",
    "* `getCourseTeacher(id)`: Función que recibe un `string` con la sigla del curso. Retorna una promesa.\n",
    "\n",
    "\n",
    "* `getCourseStudentsCount(id)`: Función que recibe un `string` con la sigla del curso. Retorna una promesa.\n",
    "\n",
    "Puedes llamar a estas funciones de la forma: `getDataWithPromises.getCourseName(id);`.\n",
    "\n",
    "**Nota:** Dado que las anteriores funciones son asíncronas, las funciones **NO RETORNARÁN INMEDIATAMENTE**. La ejecución podría demorar un máximo de 10 segundos."
   ]
  },
  {
   "cell_type": "markdown",
   "metadata": {},
   "source": [
    "### Ejercicio 3\n",
    "\n",
    "Realiza lo mismo que en el ejercicio 1, pero ahora con promesas."
   ]
  },
  {
   "cell_type": "code",
   "execution_count": null,
   "metadata": {},
   "outputs": [],
   "source": [
    "function getCourseInfoPromise() {\n",
    "    // Objeto para guardar la información\n",
    "    const courseInfo = {};\n",
    "    \n",
    "    /**\n",
    "     * Puedes probar con otros identificadores, como:\n",
    "     * IIC2613, IIC3757, IIC1253, IIC2133 y IIC2154\n",
    "     */\n",
    "    courseInfo.identifier = 'IIC2513';\n",
    "    \n",
    "    // BEGIN SOLUTION\n",
    "    \n",
    "    // END SOLUTION\n",
    "}"
   ]
  },
  {
   "cell_type": "markdown",
   "metadata": {},
   "source": [
    "Puedes probar tu código con el siguiente bloque (Recuerda que su ejecución **DEMORARÁ** hasta 10 segundos):"
   ]
  },
  {
   "cell_type": "code",
   "execution_count": null,
   "metadata": {},
   "outputs": [],
   "source": [
    "getCourseInfoPromise();"
   ]
  },
  {
   "cell_type": "markdown",
   "metadata": {},
   "source": [
    "**Resultado esperado:**\n",
    "```\n",
    "{\"identifier\":\"IIC2513\",\"name\":\"Tecnologías y Aplicaciones Web\",\"teacher\":\"Vidal Gabriel\",\"students\":69}\n",
    "```"
   ]
  },
  {
   "cell_type": "markdown",
   "metadata": {},
   "source": [
    "### Ejercicio 4\n",
    "\n",
    "Ejecuta el siguiente bloque ¿Sucede lo mismo que en el ejercicio 2?¿Por qué?:  \n",
    "Recuerda que la ejecución **VA A DEMORAR**."
   ]
  },
  {
   "cell_type": "code",
   "execution_count": null,
   "metadata": {},
   "outputs": [],
   "source": [
    "console.log(\"Before async method\");\n",
    "getCourseInfoPromise();\n",
    "console.log(\"After async method\");"
   ]
  },
  {
   "cell_type": "markdown",
   "metadata": {},
   "source": [
    "### Ejercicio 5\n",
    "\n",
    "¿Qué pasa si cambias el identificador del ejercicio 3 a, por ejemplo, \"asd\"?  \n",
    "Modifica tu código para que imprima el error en consola.  \n",
    "Al atrapar el error, imprime el `stack` de de esta forma: `console.log(error.stack);`."
   ]
  },
  {
   "cell_type": "code",
   "execution_count": null,
   "metadata": {},
   "outputs": [],
   "source": [
    "function getCourseInfoPromiseWithError() {\n",
    "    // Objeto para guardar la información\n",
    "    const courseInfo = {};\n",
    "    \n",
    "    /**\n",
    "     * Puedes probar con otros identificadores, como:\n",
    "     * IIC2613, IIC3757, IIC1253, IIC2133 y IIC2154\n",
    "     */\n",
    "    courseInfo.identifier = 'asd';\n",
    "    \n",
    "    // BEGIN SOLUTION\n",
    "    \n",
    "    // END SOLUTION\n",
    "}"
   ]
  },
  {
   "cell_type": "markdown",
   "metadata": {},
   "source": [
    "Puedes probar tu código con el siguiente bloque (Recuerda que su ejecución **DEMORARÁ** hasta 10 segundos):"
   ]
  },
  {
   "cell_type": "code",
   "execution_count": null,
   "metadata": {},
   "outputs": [],
   "source": [
    "getCourseInfoPromiseWithError();"
   ]
  },
  {
   "cell_type": "markdown",
   "metadata": {},
   "source": [
    "## `async`/`await`\n",
    "\n",
    "Cuando se llama a una función `async`, devuelve una Promesa. Cuando la función asincrónica devuelve un valor, la Promesa se resolverá con el valor devuelto. Cuando la función asíncrona arroja una excepción o algún valor, la Promesa se rechazará con el valor arrojado.\n",
    "\n",
    "Una función `async` puede contener una expresión `await`, que detiene la ejecución de la función asíncrona y espera la resolución aprobada de Promesa, y luego reanuda la ejecución de la función asincrónica y devuelve el valor resuelto.\n",
    "\n",
    "El propósito de las funciones `async`/`await` es simplificar el comportamiento de usar promesas.\n",
    "\n",
    "Para atrapar errores, puedes utilizar `try`/`catch`."
   ]
  },
  {
   "cell_type": "markdown",
   "metadata": {},
   "source": [
    "### Ejercicio 6\n",
    "\n",
    "Transforma el resultado del ejercicio 3 a uno que utilice `async`/`await` y **retorne el objeto** con la información del curso."
   ]
  },
  {
   "cell_type": "code",
   "execution_count": null,
   "metadata": {},
   "outputs": [],
   "source": [
    "async function getCourseInfoAsync() {\n",
    "    // Objeto para guardar la información\n",
    "    const courseInfo = {};\n",
    "    \n",
    "    /**\n",
    "     * Puedes probar con otros identificadores, como:\n",
    "     * IIC2613, IIC3757, IIC1253, IIC2133 y IIC2154\n",
    "     */\n",
    "    courseInfo.identifier = 'IIC2513';\n",
    "    \n",
    "    // BEGIN SOLUTION\n",
    "    \n",
    "    // END SOLUTION\n",
    "}"
   ]
  },
  {
   "cell_type": "markdown",
   "metadata": {},
   "source": [
    "Puedes probar tu código con el siguiente bloque (Recuerda que su ejecución **DEMORARÁ** hasta 10 segundos):"
   ]
  },
  {
   "cell_type": "code",
   "execution_count": null,
   "metadata": {},
   "outputs": [],
   "source": [
    "getCourseInfoAsync().then(console.log);"
   ]
  },
  {
   "cell_type": "markdown",
   "metadata": {},
   "source": [
    "**Resultado esperado:**\n",
    "```\n",
    "[Promise] {}\n",
    "\n",
    "{\"identifier\":\"IIC2513\",\"name\":\"Tecnologías y Aplicaciones Web\",\"teacher\":\"Vidal Gabriel\",\"students\":69}\n",
    "undefined\n",
    "```"
   ]
  },
  {
   "cell_type": "markdown",
   "metadata": {},
   "source": [
    "### Ejercicio 7\n",
    "\n",
    "Transforma el resultado del ejercicio anterior a uno que maneje errores. Al atrapar el error, imprime el `stack` de de esta forma: `console.log(error.stack);`.\n",
    "\n",
    "Recuerda cambiar el identificador del curso a algo como \"asd\"."
   ]
  },
  {
   "cell_type": "code",
   "execution_count": null,
   "metadata": {},
   "outputs": [],
   "source": [
    "async function getCourseInfoAsyncWithError() {\n",
    "    // Objeto para guardar la información\n",
    "    const courseInfo = {};\n",
    "    \n",
    "    /**\n",
    "     * Puedes probar con otros identificadores, como:\n",
    "     * IIC2613, IIC3757, IIC1253, IIC2133 y IIC2154\n",
    "     */\n",
    "    courseInfo.identifier = 'asd';\n",
    "    \n",
    "    // BEGIN SOLUTION\n",
    "    \n",
    "    // END SOLUTION\n",
    "}"
   ]
  },
  {
   "cell_type": "markdown",
   "metadata": {},
   "source": [
    "Puedes probar tu código con el siguiente bloque (Recuerda que su ejecución **DEMORARÁ** hasta 10 segundos):"
   ]
  },
  {
   "cell_type": "code",
   "execution_count": null,
   "metadata": {},
   "outputs": [],
   "source": [
    "getCourseInfoAsyncWithError();"
   ]
  },
  {
   "cell_type": "markdown",
   "metadata": {},
   "source": [
    "**Resultado esperado:**\n",
    "```\n",
    "[Promise] {}  \n",
    "\n",
    "Error: Error: course not found\n",
    "    at Timeout.setTimeout [as _onTimeout] (/home/gpvidal/C04/promise-functions.js:52:18)\n",
    "    at ontimeout (timers.js:482:11)\n",
    "    at tryOnTimeout (timers.js:317:5)\n",
    "    at Timer.listOnTimeout (timers.js:277:5)\n",
    "```"
   ]
  },
  {
   "cell_type": "markdown",
   "metadata": {},
   "source": [
    "## Resumen\n",
    "\n",
    "En estos ejercicios revisamos cómo se comportan las funciones asíncronas y cómo podemos operar con ellas. \n",
    "\n",
    "Lo revisado fue:\n",
    "\n",
    "* Callbacks\n",
    "* Promesas\n",
    "* `async`/`await`\n",
    "* Manejo de errores\n",
    "\n",
    "### Más información:\n",
    "\n",
    "* Callbacks: https://developer.mozilla.org/en-US/docs/Glossary/Callback_function\n",
    "* Promesas: https://developer.mozilla.org/en-US/docs/Web/JavaScript/Reference/Global_Objects/Promise\n",
    "* `async`: https://developer.mozilla.org/en-US/docs/Web/JavaScript/Reference/Statements/async_function\n",
    "* `await`: https://developer.mozilla.org/en-US/docs/Web/JavaScript/Reference/Operators/await"
   ]
  }
 ],
 "metadata": {
  "kernelspec": {
   "display_name": "NodeJS",
   "language": "javascript",
   "name": "nodejs"
  },
  "language_info": {
   "codemirror_mode": "javascript",
   "file_extension": ".js",
   "mimetype": "text/javascript",
   "name": "nodejs",
   "pygments_lexer": "javascript",
   "version": "0.10"
  }
 },
 "nbformat": 4,
 "nbformat_minor": 2
}
