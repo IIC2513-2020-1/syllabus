{
 "cells": [
  {
   "cell_type": "markdown",
   "metadata": {},
   "source": [
    "# Hoisting and Closure"
   ]
  },
  {
   "cell_type": "markdown",
   "metadata": {},
   "source": [
    "## Ejercicio 1\n",
    "\n",
    "Podrías indicar el closure de `multiplyThis` y cómo se ejecuta este código:"
   ]
  },
  {
   "cell_type": "code",
   "execution_count": null,
   "metadata": {},
   "outputs": [],
   "source": [
    "let val1 = 2\n",
    "function multiplyThis(n) {\n",
    "    let ret = n * val1\n",
    "    return ret\n",
    "}\n",
    "\n",
    "let multiplied = multiplyThis(6)\n",
    "console.log('example of scope:', multiplied)"
   ]
  },
  {
   "cell_type": "markdown",
   "metadata": {},
   "source": [
    "## Ejercicio 2\n",
    "\n",
    "Haz lo mismo para la siguiente función:"
   ]
  },
  {
   "cell_type": "code",
   "execution_count": null,
   "metadata": {},
   "outputs": [],
   "source": [
    "let counter = 0;\n",
    "\n",
    "function add() {\n",
    "    counter += 1;\n",
    "}\n",
    "\n",
    "add();\n",
    "add();\n",
    "add();\n",
    "\n",
    "console.log(counter);"
   ]
  },
  {
   "cell_type": "markdown",
   "metadata": {},
   "source": [
    "El código anterior incrementa un contador ¿Cuál es el problema de este enfoque?. Si no se te ocurre puedes mirar el siguiente código:"
   ]
  },
  {
   "cell_type": "code",
   "execution_count": null,
   "metadata": {},
   "outputs": [],
   "source": [
    "function badFunction() {\n",
    "    counter = -5;\n",
    "}\n",
    "\n",
    "badFunction();\n",
    "console.log(counter);"
   ]
  },
  {
   "cell_type": "markdown",
   "metadata": {},
   "source": [
    "¿Ahora sí?"
   ]
  },
  {
   "cell_type": "markdown",
   "metadata": {},
   "source": [
    "## Ejercicio 3\n",
    "\n",
    "Indica el output de este código ¿Cómo funciona el `hoisting` aqui?"
   ]
  },
  {
   "cell_type": "code",
   "execution_count": null,
   "metadata": {},
   "outputs": [],
   "source": [
    "function mistery() {\n",
    "  a = 20;\n",
    "  var b = 100;\n",
    "}\n",
    "\n",
    "mistery();\n",
    "\n",
    "console.log(a);\n",
    "console.log(b);"
   ]
  },
  {
   "cell_type": "markdown",
   "metadata": {},
   "source": [
    "## Más Información\n",
    "\n",
    "* Fuente Ejercicio 1: https://medium.com/dailyjs/i-never-understood-javascript-closures-9663703368e8\n",
    "* Fuente Ejercicio 2: https://www.w3schools.com/js/js_function_closures.asp\n",
    "* Fuente Ejercicio 3: https://scotch.io/tutorials/understanding-hoisting-in-javascript\n",
    "* Closure MDN: https://developer.mozilla.org/en-US/docs/Web/JavaScript/Closures\n",
    "* Hoisting: https://developer.mozilla.org/en-US/docs/Glossary/Hoisting"
   ]
  }
 ],
 "metadata": {
  "kernelspec": {
   "display_name": "NodeJS",
   "language": "javascript",
   "name": "nodejs"
  },
  "language_info": {
   "codemirror_mode": "javascript",
   "file_extension": ".js",
   "mimetype": "text/javascript",
   "name": "nodejs",
   "pygments_lexer": "javascript",
   "version": "0.10"
  }
 },
 "nbformat": 4,
 "nbformat_minor": 2
}
