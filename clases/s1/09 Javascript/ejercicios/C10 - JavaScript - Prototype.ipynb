{
 "cells": [
  {
   "cell_type": "markdown",
   "metadata": {},
   "source": [
    "# Objetos - Prototipo y herencia"
   ]
  },
  {
   "cell_type": "markdown",
   "metadata": {},
   "source": [
    "En esta etapa veremos lo que es el prototipo y herencia.\n",
    "\n",
    "Antes revisaremos un particularidad entre `this` y las *arrow functions*"
   ]
  },
  {
   "cell_type": "markdown",
   "metadata": {},
   "source": [
    "## Particularidad `this` y *arrow functions*"
   ]
  },
  {
   "cell_type": "markdown",
   "metadata": {},
   "source": [
    "Durante la clase pasada revisamos que las clases podían crearse mediantes funciones, pero nos dimos cuenta que había una particularidad si utilizámamos *arrow functions*. Por ejemplo:"
   ]
  },
  {
   "cell_type": "code",
   "execution_count": null,
   "metadata": {},
   "outputs": [],
   "source": [
    "var personArrow = {\n",
    "  name: \"Jason\",\n",
    "  shout: () => console.log(\"My name is \", this.name)\n",
    "}\n",
    "\n",
    "personArrow.shout()"
   ]
  },
  {
   "cell_type": "markdown",
   "metadata": {},
   "source": [
    "![alt text](http://derickbailey.com/wp-content/uploads/2015/09/undefined-this.jpeg \"Title\")\n",
    "\n",
    "Source: https://derickbailey.com/2015/09/28/do-es6-arrow-functions-really-solve-this-in-javascript/"
   ]
  },
  {
   "cell_type": "markdown",
   "metadata": {},
   "source": [
    "Wow! Pero ¿Qué pasó acá? ¿Pasará lo mismo si cambiamos de *arrow function* a función? Veamos:"
   ]
  },
  {
   "cell_type": "code",
   "execution_count": null,
   "metadata": {},
   "outputs": [],
   "source": [
    "var personFunction = {\n",
    "  name: \"Jason\",\n",
    "  shout: function() { console.log(\"My name is \", this.name) },\n",
    "}\n",
    "\n",
    "personFunction.shout()"
   ]
  },
  {
   "cell_type": "markdown",
   "metadata": {},
   "source": [
    "(En este momento la cabeza explota)\n",
    "\n",
    "Claramente aquí hay una diferencia y justamente tiene que ver con la referencia a `this`. En el caso de las funciones \"normales\" la referencia de `this` corresponde a la del contexto de la función (su propio `this`), mientras que en el caso de las *arrow functions* no hay una referencia al contexto propio, sino que más bien al entorno donde se ejecuta. Esto también se conoce como *Lexical Scope*.\n",
    "\n",
    "**Algunos recursos:**\n",
    "\n",
    "* https://medium.com/@jacobworrel/es6-arrow-functions-what-not-to-do-c28c96b4f396\n",
    "* https://hackernoon.com/javascript-es6-arrow-functions-and-lexical-this-f2a3e2a5e8c4"
   ]
  },
  {
   "cell_type": "markdown",
   "metadata": {},
   "source": [
    "## Continuemos con objetos ahora :)"
   ]
  },
  {
   "cell_type": "markdown",
   "metadata": {},
   "source": [
    "Al final de la clase anterior teníamos esto:"
   ]
  },
  {
   "cell_type": "code",
   "execution_count": null,
   "metadata": {},
   "outputs": [],
   "source": [
    "function Duck(name, age) {\n",
    "    this.name = name;\n",
    "    this.age = age;\n",
    "    this.cuak = function(times) {\n",
    "        while(times-- > 0) {\n",
    "            console.log('Cuak!');\n",
    "        }\n",
    "    }\n",
    "}\n",
    "\n",
    "var duck1 = new Duck('Donald', 5);\n",
    "var duck2 = new Duck('Lucas', 6);"
   ]
  },
  {
   "cell_type": "markdown",
   "metadata": {},
   "source": [
    "Al realizar la siguiente comparación, notábamos algo muy particular:"
   ]
  },
  {
   "cell_type": "code",
   "execution_count": null,
   "metadata": {},
   "outputs": [],
   "source": [
    "duck1.cuak === duck2.cuak"
   ]
  },
  {
   "cell_type": "markdown",
   "metadata": {},
   "source": [
    "¿Que quiere decir esto?¿Las dos funciones no son la misma?\n",
    "\n",
    "![alt text](https://bikesforfish.files.wordpress.com/2015/09/patrick-surprised-face-tumblr-gallery-for-patrick-shocked-face-pictures.png?w=511 \"Title\")\n",
    "\n",
    "Source: https://bikesforfish.com/2015/09/13/got-you-by-the-gubernaculum/"
   ]
  },
  {
   "cell_type": "markdown",
   "metadata": {},
   "source": [
    "Lo anterior quiere decir que, cada vez que creemos un objeto `Duck`, estaremos creando también una nueva función ¿Ineficiente, no? ¿Cómo lo solucionamos? Aquí viene el **prototipo** a salvarnos!"
   ]
  },
  {
   "cell_type": "markdown",
   "metadata": {},
   "source": [
    "## Prototipo\n",
    "\n",
    "Todos los objetos, **salvo el objeto base** tienen un prototipo.\n",
    "\n",
    "**El prototipo es un objeto**, que tiene un prototipo!\n",
    "\n",
    "Las propiedades de un objeto se buscarán en el objeto, sino se encuentran ahí se buscarán en el prototipo, sino están ahí en el prototipo del prototipo y... puf! Herencia!\n",
    "\n",
    "### ¿Cómo obtenemos el prototipo de un objeto?\n",
    "\n",
    "Así:"
   ]
  },
  {
   "cell_type": "code",
   "execution_count": null,
   "metadata": {},
   "outputs": [],
   "source": [
    "var prototypeOne = duck1.__proto__;\n",
    "var prototypeTwo = duck1.constructor.prototype; // forma segura en todos los navegadores (incluso no modernos)\n",
    "var prototypeThree = Object.getPrototypeOf(duck1);\n",
    "\n",
    "prototypeOne === prototypeTwo && prototypeTwo === prototypeThree;"
   ]
  },
  {
   "cell_type": "markdown",
   "metadata": {},
   "source": [
    "Para obtener el prototipo que una función le asigna a sus objetos:"
   ]
  },
  {
   "cell_type": "code",
   "execution_count": null,
   "metadata": {},
   "outputs": [],
   "source": [
    "Duck.prototype === prototypeTwo;"
   ]
  },
  {
   "cell_type": "markdown",
   "metadata": {},
   "source": [
    "### ¿Cómo solucionamos el problema anterior?\n",
    "\n",
    "Así:"
   ]
  },
  {
   "cell_type": "code",
   "execution_count": null,
   "metadata": {},
   "outputs": [],
   "source": [
    "function Duck(name, age) {\n",
    "    this.name = name;\n",
    "    this.age = age;\n",
    "}\n",
    "\n",
    "Duck.prototype.cuak = function(times) {\n",
    "    while(times-- > 0) {\n",
    "        console.log('Cuak!');\n",
    "    }\n",
    "}\n",
    "\n",
    "var duck1 = new Duck('Donald', 5);\n",
    "var duck2 = new Duck('Lucas', 6);"
   ]
  },
  {
   "cell_type": "markdown",
   "metadata": {},
   "source": [
    "Y si probamos ahora:"
   ]
  },
  {
   "cell_type": "code",
   "execution_count": null,
   "metadata": {},
   "outputs": [],
   "source": [
    "duck1.cuak === duck2.cuak"
   ]
  },
  {
   "cell_type": "markdown",
   "metadata": {},
   "source": [
    "Ahora si!"
   ]
  },
  {
   "cell_type": "markdown",
   "metadata": {},
   "source": [
    "## Herencia\n",
    "\n",
    "Bueno ¿Y cómo hacemos herencia?\n",
    "\n",
    "Vamos a crear mamíferos que se pueden mover de distinta forma! Observa el siguiente ejemplo:"
   ]
  },
  {
   "cell_type": "code",
   "execution_count": null,
   "metadata": {},
   "outputs": [],
   "source": [
    "// Creamos la función Mamífero\n",
    "function Mammal(name) {\n",
    "    this.name = name;\n",
    "}\n",
    "\n",
    "// Agregamos a su prototipo la funcion moverse\n",
    "Mammal.prototype.move = function() {\n",
    "    console.log(\"Mammal is moving...\");\n",
    "}\n",
    "\n",
    "// Creamos una funcion Perro\n",
    "function Dog(name, breed) {\n",
    "    Mammal.call(this, name);\n",
    "    this.breed = breed;\n",
    "}\n",
    "\n",
    "// Creamos una funcion Delfin\n",
    "function Dolphin(name) {\n",
    "    Mammal.call(this, name);\n",
    "}\n",
    "\n",
    "// Asignamos a su prototipo un Mamífero\n",
    "Dog.prototype = new Mammal();\n",
    "Dolphin.prototype = new Mammal();\n",
    "\n",
    "var dog = new Dog(\"Snoopy\", \"Beagle\");\n",
    "var dolphin = new Dolphin(\"Willy\");\n",
    "\n",
    "dog.move();\n",
    "dolphin.move();\n",
    "\n",
    "// Alteramos el prototipo del delfín\n",
    "Dolphin.prototype.move = function() {\n",
    "    console.log(\"Dolphin is swimming...\");\n",
    "}\n",
    "\n",
    "dog.move();\n",
    "dolphin.move();"
   ]
  },
  {
   "cell_type": "markdown",
   "metadata": {},
   "source": [
    "Y, tal como vimos la clase pasada, al ser incorporado `class` el realizar clases es mucho más simple!"
   ]
  },
  {
   "cell_type": "code",
   "execution_count": null,
   "metadata": {},
   "outputs": [],
   "source": [
    "class Cat extends Mammal{\n",
    "    constructor(name){\n",
    "        super(name);\n",
    "    }\n",
    "}\n",
    "\n",
    "cat = new Cat();\n",
    "cat.move();"
   ]
  },
  {
   "cell_type": "markdown",
   "metadata": {},
   "source": [
    "## Ejercicios\n",
    "\n",
    "### Ejercicio 1\n",
    "\n",
    "Represente la siguiente situación utilizando lo aprendido anteriormente:\n",
    "\n",
    "Tu tienes distintos tipos de vehículos: auto, moto y bicicleta. Representa esto con clases considerando lo siguiente:\n",
    "\n",
    "* Todos los vehículos pueden moverse\n",
    "* Sólo el auto y la moto pueden encenderse\n",
    "* El auto y la moto tiene nivel de estanque (número de 1 a 100)\n",
    "* La bicicleta tiene una luz trasera, que puede encenderse o apagarse\n",
    "\n",
    "Para todas las acciones anteriores basta con que muestre un mensaje en consola para indicar su estado."
   ]
  },
  {
   "cell_type": "code",
   "execution_count": null,
   "metadata": {},
   "outputs": [],
   "source": [
    "// Tu solución aquí"
   ]
  },
  {
   "cell_type": "markdown",
   "metadata": {},
   "source": [
    "### Ejercicio 2\n",
    "\n",
    "¿Podrías intentar determinar el nivel de acceso de esta clase? Existen privados, privilegiados y públicos:\n",
    "\n",
    "```javascript\n",
    "// Para los parámetros manufacturer y model\n",
    "function Smartphone(manufacturer, model) {\n",
    "  this.manufacturer = manufacturer;\n",
    "  this.model = model;\n",
    "  // Para la función getModel\n",
    "  this.getModel = function() {\n",
    "    return this.model;\n",
    "  }\n",
    "}\n",
    "\n",
    "// Para la función ring\n",
    "Smartphone.prototype.ring = function() {\n",
    "  console.log('Ring...ring...ring');\n",
    "}\n",
    "\n",
    "```"
   ]
  },
  {
   "cell_type": "code",
   "execution_count": null,
   "metadata": {},
   "outputs": [],
   "source": []
  }
 ],
 "metadata": {
  "kernelspec": {
   "display_name": "NodeJS",
   "language": "javascript",
   "name": "nodejs"
  },
  "language_info": {
   "codemirror_mode": "javascript",
   "file_extension": ".js",
   "mimetype": "text/javascript",
   "name": "nodejs",
   "pygments_lexer": "javascript",
   "version": "0.10"
  }
 },
 "nbformat": 4,
 "nbformat_minor": 2
}
