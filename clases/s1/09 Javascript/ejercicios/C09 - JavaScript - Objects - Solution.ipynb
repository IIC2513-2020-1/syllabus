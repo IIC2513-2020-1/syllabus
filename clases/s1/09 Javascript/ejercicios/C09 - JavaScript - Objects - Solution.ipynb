{
 "cells": [
  {
   "cell_type": "markdown",
   "metadata": {},
   "source": [
    "# Objects"
   ]
  },
  {
   "cell_type": "markdown",
   "metadata": {},
   "source": [
    "Hasta el momento hemos visto (en clases, proyecto y ejercicios) las siguientes declaraciones de objetos:"
   ]
  },
  {
   "cell_type": "code",
   "execution_count": null,
   "metadata": {},
   "outputs": [],
   "source": [
    "var course = {\n",
    "    id: 'IIC2513',\n",
    "    name: 'Tecnologías y Aplicaciones Web',\n",
    "};"
   ]
  },
  {
   "cell_type": "markdown",
   "metadata": {},
   "source": [
    "¿Cómo sabemos que es un objeto?"
   ]
  },
  {
   "cell_type": "code",
   "execution_count": null,
   "metadata": {},
   "outputs": [],
   "source": [
    "console.log(typeof course);"
   ]
  },
  {
   "cell_type": "markdown",
   "metadata": {},
   "source": [
    "## Métodos\n",
    "\n",
    "Imagina que, al objeto anterior, queremos agregarle un método para indicar si el profesor está en la sala de clases. Lo podríamos hacer de esta forma:"
   ]
  },
  {
   "cell_type": "code",
   "execution_count": null,
   "metadata": {},
   "outputs": [],
   "source": [
    "course.professorInClassroom = function() {\n",
    "    console.log('Professor in classroom');\n",
    "}"
   ]
  },
  {
   "cell_type": "markdown",
   "metadata": {},
   "source": [
    "Y ejecutarlo:"
   ]
  },
  {
   "cell_type": "code",
   "execution_count": null,
   "metadata": {},
   "outputs": [],
   "source": [
    "course.professorInClassroom();"
   ]
  },
  {
   "cell_type": "markdown",
   "metadata": {},
   "source": [
    "Ahora tu preguntarás: Bueno, pero ¿Puedo hacer referencia a otra propiedad del objeto? Lo cual es una excelente pregunta y la respuesta es sí.\n",
    "\n",
    "Ahora tu preguntas: ¿Cómo?\n",
    "\n",
    "Y aquí es donde aparece nuestro amigo `this`. Él hace referencia al objeto desde el cual se llama.\n",
    "\n",
    "Para que veas como funciona, haremos lo siguiente:\n",
    "* Borraremos el método anterior\n",
    "* Guardaremos en una propiedad si el profesor está en clases\n",
    "* Crearemos un método que nos permita indicar si el profesor está en la sala\n",
    "* Crearemos otro método para consultar (e imprimir en otro) si el profesor está en la sala de clases"
   ]
  },
  {
   "cell_type": "code",
   "execution_count": null,
   "metadata": {},
   "outputs": [],
   "source": [
    "// Eliminamos la funcion anterior\n",
    "course.professorInClassroom = undefined;\n",
    "\n",
    "// Método para indicar si el profesor está en la sala\n",
    "course.setProfessorInClassroom = function(status) {\n",
    "  this.professorInClassroom = status;  \n",
    "};\n",
    "\n",
    "// Método para consultar si el profesor está en la sala\n",
    "course.isProfessorInClassroom = function() {\n",
    "    return this.professorInClassroom;\n",
    "}\n",
    "\n",
    "// Método que imprime si el profesor está en la sala\n",
    "course.printProfessorInClassroom = function() {\n",
    "    console.log(this.professorInClassroom ? 'Yes' : 'No');\n",
    "}"
   ]
  },
  {
   "cell_type": "markdown",
   "metadata": {},
   "source": [
    "Y ahora probamos como funciona"
   ]
  },
  {
   "cell_type": "code",
   "execution_count": null,
   "metadata": {},
   "outputs": [],
   "source": [
    "course.setProfessorInClassroom(false);\n",
    "course.printProfessorInClassroom();\n",
    "\n",
    "course.setProfessorInClassroom(true);\n",
    "course.printProfessorInClassroom();"
   ]
  },
  {
   "cell_type": "markdown",
   "metadata": {},
   "source": [
    "### Ejercicio 1\n",
    "\n",
    "Crea un objeto que represente una ampolleta y que tenga lo siguiente:\n",
    "\n",
    "* Su estado (si está encendido)\n",
    "* Un método para encenderla\n",
    "* Un método para apagarla\n",
    "* Un método que imprima su estado"
   ]
  },
  {
   "cell_type": "code",
   "execution_count": null,
   "metadata": {},
   "outputs": [],
   "source": [
    "// Aquí tu solución\n",
    "var ampolleta = {\n",
    "    isOn: false,\n",
    "    turnOn: function () {\n",
    "        this.isOn = true;\n",
    "    },\n",
    "    turnOff: function() {\n",
    "        this.isOn = false;\n",
    "    },\n",
    "    status: function() {\n",
    "        console.log(this.isOn ? 'On' : 'Off');\n",
    "    },\n",
    "}\n",
    "\n",
    "ampolleta.status()\n",
    "ampolleta.turnOn()\n",
    "ampolleta.status()\n",
    "ampolleta.turnOff()\n",
    "ampolleta.status()"
   ]
  },
  {
   "cell_type": "markdown",
   "metadata": {},
   "source": [
    "### ¿Y puedo cambiar el `this` al llamar un método?\n",
    "\n",
    "La respuesta es sí. Mira el siguiente ejemplo:"
   ]
  },
  {
   "cell_type": "code",
   "execution_count": null,
   "metadata": {},
   "outputs": [],
   "source": [
    "function printId(text) {\n",
    "    console.log(`${text} ${this.id}`);\n",
    "}\n",
    "\n",
    "var course1 = {\n",
    "    id: 'IIC2513',\n",
    "};\n",
    "\n",
    "var course2 = {\n",
    "    id: 'IIC1103',\n",
    "};\n",
    "\n",
    "// Call: Recibe el this y cada parámetro por separado\n",
    "console.log(\"call\");\n",
    "printId.call(course1, 'See course');\n",
    "printId.call(course2, 'Like course');\n",
    "\n",
    "// Apply: Recibe el this y los parámetros dentro de un array\n",
    "console.log(\"apply\");\n",
    "printId.apply(course1, ['See course']);\n",
    "printId.apply(course2, ['Like course']);"
   ]
  },
  {
   "cell_type": "markdown",
   "metadata": {},
   "source": [
    "Y ahora te estás preguntando ¿Y cómo puedo tener un constructor o algo similar?"
   ]
  },
  {
   "cell_type": "markdown",
   "metadata": {},
   "source": [
    "## Definiendo objetos con funciones\n",
    "\n",
    "Cualquier función puede ser utilizada para crear objetos ya que, dentro de ella, tendrá la referencia a `this`. Se podrá construir utilizando `new`.\n",
    "\n",
    "Por ejemplo:"
   ]
  },
  {
   "cell_type": "code",
   "execution_count": null,
   "metadata": {},
   "outputs": [],
   "source": [
    "function Duck(name, age) {\n",
    "    this.name = name;\n",
    "    this.age = age;\n",
    "}"
   ]
  },
  {
   "cell_type": "markdown",
   "metadata": {},
   "source": [
    "Si le queremos agregar funciones:"
   ]
  },
  {
   "cell_type": "code",
   "execution_count": null,
   "metadata": {},
   "outputs": [],
   "source": [
    "function Duck(name, age) {\n",
    "    this.name = name;\n",
    "    this.age = age;\n",
    "    this.cuak = function(times) {\n",
    "        while(times-- > 0) {\n",
    "            console.log('Cuak!');\n",
    "        }\n",
    "    }\n",
    "}"
   ]
  },
  {
   "cell_type": "markdown",
   "metadata": {},
   "source": [
    "Ahora la utilizamos:"
   ]
  },
  {
   "cell_type": "code",
   "execution_count": null,
   "metadata": {},
   "outputs": [],
   "source": [
    "var duck = new Duck('Donald', 5);\n",
    "\n",
    "duck.cuak(3)"
   ]
  },
  {
   "cell_type": "markdown",
   "metadata": {},
   "source": [
    "### Ejercicio 2\n",
    "\n",
    "Crea un objeto (ahora utilizando funciones) que represente un cine y tenga lo siguiente:\n",
    "\n",
    "* Un nombre y la cantidad de películas\n",
    "* Un método que imprima la cantidad de películas disponibles\n",
    "* Un método que permita cambiar la cantidad de películas"
   ]
  },
  {
   "cell_type": "code",
   "execution_count": null,
   "metadata": {},
   "outputs": [],
   "source": [
    "// Aquí tu solucion\n",
    "function Cinema(name, moviesQuantity) {\n",
    "    this.name = name;\n",
    "    this.moviesQuantity = moviesQuantity;\n",
    "    this.printMoviesQuantity = function() {\n",
    "        console.log(this.moviesQuantity);\n",
    "    };\n",
    "    this.changeMoviesQuantity = function(newQuantity) {\n",
    "        this.moviesQuantity = newQuantity;\n",
    "    }\n",
    "}\n",
    "\n",
    "var cinema = new Cinema('Doits', 50);\n",
    "cinema.printMoviesQuantity();\n",
    "cinema.changeMoviesQuantity(30);\n",
    "cinema.printMoviesQuantity();"
   ]
  },
  {
   "cell_type": "markdown",
   "metadata": {},
   "source": [
    "## ¿Y no existe una forma un poco más 'normal'?\n",
    "\n",
    "Desde `EcmaScript 2015` se agregaron \"clases\", sin embargo, siguen siendo sintaxis para reemplazar a las funciones costructoras (que vimos en la sección anterior). De hecho, todo lo que declaremos como clase será una función."
   ]
  },
  {
   "cell_type": "code",
   "execution_count": null,
   "metadata": {},
   "outputs": [],
   "source": [
    "class Circle {\n",
    "    constructor(radius) {\n",
    "        this.radius = radius;\n",
    "    }\n",
    "    \n",
    "    getArea() {\n",
    "        return 3.14 * this.radius * this.radius;\n",
    "    }\n",
    "}"
   ]
  },
  {
   "cell_type": "markdown",
   "metadata": {},
   "source": [
    "Para utilizarla"
   ]
  },
  {
   "cell_type": "code",
   "execution_count": null,
   "metadata": {},
   "outputs": [],
   "source": [
    "var circle = new Circle(2);\n",
    "console.log(`Area: ${circle.getArea()}`);"
   ]
  },
  {
   "cell_type": "markdown",
   "metadata": {},
   "source": [
    "### Ejercicio 3\n",
    "\n",
    "Crea un objeto (ahora utilizando esta sintaxis) que represente una moto y tenga lo siguiente:\n",
    "\n",
    "* Un nombre, la cilindrada, aro de la rueda, nivel de combustible (porcentaje)\n",
    "* Un método que imprima el detalle de la moto en consola\n",
    "* Un método que actualice el nivel de combustible"
   ]
  },
  {
   "cell_type": "code",
   "execution_count": null,
   "metadata": {},
   "outputs": [],
   "source": [
    "// Aquí tu solución\n",
    "class Motorcycle{\n",
    "    constructor(name, cc, wheel, fuel) {\n",
    "        this.name = name;\n",
    "        this.cc = cc;\n",
    "        this.wheel = wheel;\n",
    "        this.fuel = fuel;\n",
    "    }\n",
    "    \n",
    "    setFuel(newFuel) {\n",
    "        this.fuel = newFuel;\n",
    "    }\n",
    "    \n",
    "    printStatus() {\n",
    "        console.log(`name: ${this.name} cc: ${this.cc} wheel: ${this.wheel} fuel: ${this.fuel}`);\n",
    "    }\n",
    "}\n",
    "\n",
    "var motorcycle = new Motorcycle('HH', 400, 10, 50);\n",
    "motorcycle.printStatus();\n",
    "motorcycle.setFuel(80);\n",
    "motorcycle.printStatus();"
   ]
  },
  {
   "cell_type": "markdown",
   "metadata": {},
   "source": [
    "## Algo para reflexionar\n",
    "\n",
    "Te acuerdas de nuestra clase `Restaurant`. Mira el siguiente código:"
   ]
  },
  {
   "cell_type": "code",
   "execution_count": null,
   "metadata": {},
   "outputs": [],
   "source": [
    "var duck1 = new Duck('Donald', 5);\n",
    "var duck2 = new Duck('Lucas', 6);"
   ]
  },
  {
   "cell_type": "markdown",
   "metadata": {},
   "source": [
    "¿Qué pasa al comparar la misma función en ambos objetos?"
   ]
  },
  {
   "cell_type": "code",
   "execution_count": null,
   "metadata": {},
   "outputs": [],
   "source": [
    "duck1.cuak === duck2.cuak"
   ]
  },
  {
   "cell_type": "markdown",
   "metadata": {},
   "source": [
    "¿Qué significa?¿Por qué ocurre esto?"
   ]
  },
  {
   "cell_type": "markdown",
   "metadata": {},
   "source": [
    "## Más información\n",
    "\n",
    "* MDN - https://developer.mozilla.org/en-US/docs/Web/JavaScript/Reference/Global_Objects/Object\n",
    "* Ejemplos MDN - https://developer.mozilla.org/es/docs/Web/JavaScript/Guide/Trabajando_con_objectos\n",
    "* Medium - https://medium.com/entendiendo-javascript/entendiendo-los-objetos-en-javascript-3a6d3a0695e5"
   ]
  }
 ],
 "metadata": {
  "kernelspec": {
   "display_name": "NodeJS",
   "language": "javascript",
   "name": "nodejs"
  },
  "language_info": {
   "codemirror_mode": "javascript",
   "file_extension": ".js",
   "mimetype": "text/javascript",
   "name": "nodejs",
   "pygments_lexer": "javascript",
   "version": "0.10"
  }
 },
 "nbformat": 4,
 "nbformat_minor": 2
}
