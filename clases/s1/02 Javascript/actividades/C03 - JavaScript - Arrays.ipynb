{
 "cells": [
  {
   "cell_type": "markdown",
   "metadata": {},
   "source": [
    "# Javascript - Arrays\n",
    "\n",
    "En este notebook vamos a practicar temas relacionados con arreglos."
   ]
  },
  {
   "cell_type": "markdown",
   "metadata": {},
   "source": [
    "## Ejercicio 1\n",
    "\n",
    "Implemente la siguiente función para que imprima todos los elementos de un arreglo unidimensional.\n",
    "\n",
    "Para esto recuerde que:\n",
    "\n",
    "* Con `for` puede recorrer el arreglo\n",
    "* Recuerde que puede obtener el largo de un arreglo con `length`\n",
    "* Usando `console.log()` puede imprimir en la consola"
   ]
  },
  {
   "cell_type": "code",
   "execution_count": null,
   "metadata": {},
   "outputs": [],
   "source": [
    "/***\n",
    " * Prints array elements\n",
    " * @param {Array} array with elements\n",
    " */\n",
    "function printArrayElements(array) {\n",
    "    // BEGIN SOLUTION\n",
    "    \n",
    "    // END SOLUTION\n",
    "}"
   ]
  },
  {
   "cell_type": "markdown",
   "metadata": {},
   "source": [
    "Puedes probar tu función con este código:"
   ]
  },
  {
   "cell_type": "code",
   "execution_count": null,
   "metadata": {},
   "outputs": [],
   "source": [
    "var arrayTest01 = [1,2,6,8];\n",
    "printArrayElements(arrayTest01);"
   ]
  },
  {
   "cell_type": "markdown",
   "metadata": {},
   "source": [
    "**Resultado Esperado:**  \n",
    "1  \n",
    "2  \n",
    "6  \n",
    "8  "
   ]
  },
  {
   "cell_type": "markdown",
   "metadata": {},
   "source": [
    "## Ejercicio 2\n",
    "\n",
    "Implemente la siguiente función para que imprima todos los elementos de un arreglo bidimensional. Imprima, además la fila en la que se encuentra (partiendo de 1).\n",
    "\n",
    "Para esto recuerde que:\n",
    "\n",
    "* Con `for` puede recorrer el arreglo\n",
    "* Recuerde que puede obtener el largo de un arreglo con `length`\n",
    "* Usando `console.log()` puede imprimir en la consola"
   ]
  },
  {
   "cell_type": "code",
   "execution_count": null,
   "metadata": {},
   "outputs": [],
   "source": [
    "/***\n",
    " * Prints matrix elements\n",
    " * @param {Array} array with two dimensions\n",
    " */\n",
    "function printMatrixElements(matrix) {\n",
    "    // BEGIN SOLUTION\n",
    "    \n",
    "    // END SOLUTION\n",
    "}"
   ]
  },
  {
   "cell_type": "markdown",
   "metadata": {},
   "source": [
    "Puedes probar tu función con este código:"
   ]
  },
  {
   "cell_type": "code",
   "execution_count": null,
   "metadata": {},
   "outputs": [],
   "source": [
    "var matrixTest02 = [[1,2,3], [4,5,6], [7,8,9]];\n",
    "printMatrixElements(matrixTest02);"
   ]
  },
  {
   "cell_type": "markdown",
   "metadata": {},
   "source": [
    "**Resultado Esperado:**  \n",
    "Row 1:  \n",
    "1  \n",
    "2  \n",
    "3  \n",
    "Row 2:  \n",
    "4  \n",
    "5  \n",
    "6  \n",
    "Row 3:  \n",
    "7  \n",
    "8  \n",
    "9"
   ]
  },
  {
   "cell_type": "markdown",
   "metadata": {},
   "source": [
    "## Ejercicio 3\n",
    "\n",
    "Como parte de los arreglos en JavaScript, existe la función `forEach`, que permite aplicar una función a cada elemento de un arreglo. Implemente el ejercicio 1 usando `forEach`.\n",
    "\n",
    "Más información sobre `forEach` en [MDN web docs](https://developer.mozilla.org/en-US/docs/Web/JavaScript/Reference/Global_Objects/Array/forEach)"
   ]
  },
  {
   "cell_type": "code",
   "execution_count": null,
   "metadata": {},
   "outputs": [],
   "source": [
    "/***\n",
    " * Prints array elements\n",
    " * @param {Array} array with elements\n",
    " */\n",
    "function printArrayElementsWithForEach(array) {\n",
    "    // BEGIN SOLUTION\n",
    "    \n",
    "    // END SOLUTION\n",
    "}"
   ]
  },
  {
   "cell_type": "markdown",
   "metadata": {},
   "source": [
    "Puedes probar tu función con este código:"
   ]
  },
  {
   "cell_type": "code",
   "execution_count": null,
   "metadata": {},
   "outputs": [],
   "source": [
    "var arrayTest03 = [1,2,6,8];\n",
    "printArrayElementsWithForEach(arrayTest03);"
   ]
  },
  {
   "cell_type": "markdown",
   "metadata": {},
   "source": [
    "**Resultado Esperado:**  \n",
    "1  \n",
    "2  \n",
    "6  \n",
    "8  "
   ]
  },
  {
   "cell_type": "markdown",
   "metadata": {},
   "source": [
    "## Ejercicio 4\n",
    "\n",
    "Implemente el ejercicio 2 usando `forEach`.\n",
    "\n",
    "Más información sobre `forEach` en [MDN web docs](https://developer.mozilla.org/en-US/docs/Web/JavaScript/Reference/Global_Objects/Array/forEach)"
   ]
  },
  {
   "cell_type": "code",
   "execution_count": null,
   "metadata": {},
   "outputs": [],
   "source": [
    "/***\n",
    " * Prints matrix elements\n",
    " * @param {Array} array with two dimensions\n",
    " */\n",
    "function printMatrixElementsWithForEach(matrix) {\n",
    "    // BEGIN SOLUTION\n",
    "    \n",
    "    // END SOLUTION\n",
    "}"
   ]
  },
  {
   "cell_type": "markdown",
   "metadata": {},
   "source": [
    "Puedes probar tu función con este código:"
   ]
  },
  {
   "cell_type": "code",
   "execution_count": null,
   "metadata": {},
   "outputs": [],
   "source": [
    "var matrixTest04 = [[1,2,3], [4,5,6], [7,8,9]];\n",
    "printMatrixElementsWithForEach(matrixTest04);"
   ]
  },
  {
   "cell_type": "markdown",
   "metadata": {},
   "source": [
    "**Resultado Esperado:**  \n",
    "Row 1:  \n",
    "1  \n",
    "2  \n",
    "3  \n",
    "Row 2:  \n",
    "4  \n",
    "5  \n",
    "6  \n",
    "Row 3:  \n",
    "7  \n",
    "8  \n",
    "9"
   ]
  },
  {
   "cell_type": "markdown",
   "metadata": {},
   "source": [
    "## Ejercicio 5\n",
    "\n",
    "Implemente la siguiente función para que **retorne un arreglo** con todos los elementos del parámetro elevado a dos.\n",
    "\n",
    "Para esto recuerde que:\n",
    "\n",
    "* Con `for` puede recorrer el arreglo\n",
    "* Puede crear un arreglo de esta forma: `const elements = [];`\n",
    "* Puede agregar un elemento a un arreglo de esta forma: `elements.push(2);`\n",
    "* Para realizar la operación $x^{y}$ puede utilizar: `Math.pow(x, y)`"
   ]
  },
  {
   "cell_type": "code",
   "execution_count": null,
   "metadata": {},
   "outputs": [],
   "source": [
    "/***\n",
    " * Returns and array with elements to power two\n",
    " * @param {Array} array with numbers\n",
    " */\n",
    "function elementsToPowerTwo(array) {\n",
    "    // BEGIN SOLUTION\n",
    "    \n",
    "    // END SOLUTION\n",
    "}"
   ]
  },
  {
   "cell_type": "markdown",
   "metadata": {},
   "source": [
    "Puedes probar tu función con este código:"
   ]
  },
  {
   "cell_type": "code",
   "execution_count": null,
   "metadata": {},
   "outputs": [],
   "source": [
    "var arrayWithNumbersTest05 = [2, 4, 6, 8];\n",
    "console.log(elementsToPowerTwo(arrayWithNumbersTest05));"
   ]
  },
  {
   "cell_type": "markdown",
   "metadata": {},
   "source": [
    "**Valor Esperado:**  \n",
    "[Array] [4,16,36,64]"
   ]
  },
  {
   "cell_type": "markdown",
   "metadata": {},
   "source": [
    "## Ejercicio 6\n",
    "\n",
    "Como parte de los arreglos en JavaScript existe la función `map`, que permite aplicar una función a cada elemento y retorna un arreglo con el resultado de la operación. Implemente el ejercicio 5 usando `map`.\n",
    "\n",
    "Más información sobre `map` en [MDN web docs](https://developer.mozilla.org/en-US/docs/Web/JavaScript/Reference/Global_Objects/Array/map)"
   ]
  },
  {
   "cell_type": "code",
   "execution_count": null,
   "metadata": {},
   "outputs": [],
   "source": [
    "/***\n",
    " * Returns and array with elements to power two\n",
    " * @param {Array} array with numbers\n",
    " */\n",
    "function elementsToPowerTwoWithMap(array) {\n",
    "    // BEGIN SOLUTION\n",
    "    \n",
    "    // END SOLUTION\n",
    "}"
   ]
  },
  {
   "cell_type": "markdown",
   "metadata": {},
   "source": [
    "Puedes probar tu función con este código:"
   ]
  },
  {
   "cell_type": "code",
   "execution_count": null,
   "metadata": {},
   "outputs": [],
   "source": [
    "var arrayWithNumbersTest06 = [2, 4, 6, 8];\n",
    "console.log(elementsToPowerTwoWithMap(arrayWithNumbersTest06));"
   ]
  },
  {
   "cell_type": "markdown",
   "metadata": {},
   "source": [
    "**Valor Esperado:**  \n",
    "[Array] [4,16,36,64]"
   ]
  },
  {
   "cell_type": "markdown",
   "metadata": {},
   "source": [
    "## Ejercicio 7\n",
    "\n",
    "Implemente la siguiente función para que retorne la suma de los elementos del parámetro.\n",
    "\n",
    "Para esto recuerde que:\n",
    "\n",
    "* Con `for` puede recorrer el arreglo"
   ]
  },
  {
   "cell_type": "code",
   "execution_count": null,
   "metadata": {},
   "outputs": [],
   "source": [
    "/***\n",
    " * Returns the sum of elements\n",
    " * @param {Array} array with numbers\n",
    " */\n",
    "function elementsSum(array) {\n",
    "    // BEGIN SOLUTION\n",
    "    \n",
    "    // END SOLUTION\n",
    "}"
   ]
  },
  {
   "cell_type": "markdown",
   "metadata": {},
   "source": [
    "Puedes probar tu función con este código:"
   ]
  },
  {
   "cell_type": "code",
   "execution_count": null,
   "metadata": {},
   "outputs": [],
   "source": [
    "var arrayWithNumbersTest07 = [2, 4, 6, 8];\n",
    "console.log(elementsSum(arrayWithNumbersTest07));"
   ]
  },
  {
   "cell_type": "markdown",
   "metadata": {},
   "source": [
    "**Valor Esperado:**  \n",
    "20"
   ]
  },
  {
   "cell_type": "markdown",
   "metadata": {},
   "source": [
    "## Ejercicio 8\n",
    "\n",
    "Como parte de los arreglos en JavaScript existe la función `reduce`, que permite aplicar una función combinando un acumulador y un elemento del arreglo (de izquierda a derecha) y \"reducirlo\" a un valor. Implemente el ejercicio 7 usando `reduce`.\n",
    "\n",
    "Más información sobre `reduce` en [MDN web docs](https://developer.mozilla.org/en-US/docs/Web/JavaScript/Reference/Global_Objects/Array/reduce)"
   ]
  },
  {
   "cell_type": "code",
   "execution_count": null,
   "metadata": {},
   "outputs": [],
   "source": [
    "/***\n",
    " * Returns the sum of elements\n",
    " * @param {Array} array with numbers\n",
    " */\n",
    "function elementsSumWithReduce(array) {\n",
    "    // BEGIN SOLUTION\n",
    "    \n",
    "    // END SOLUTION\n",
    "}"
   ]
  },
  {
   "cell_type": "markdown",
   "metadata": {},
   "source": [
    "Puedes probar tu función con este código:"
   ]
  },
  {
   "cell_type": "code",
   "execution_count": null,
   "metadata": {},
   "outputs": [],
   "source": [
    "var arrayWithNumbersTest08 = [2, 4, 6, 8];\n",
    "console.log(elementsSumWithReduce(arrayWithNumbersTest08));"
   ]
  },
  {
   "cell_type": "markdown",
   "metadata": {},
   "source": [
    "**Valor Esperado:**  \n",
    "20"
   ]
  },
  {
   "cell_type": "markdown",
   "metadata": {},
   "source": [
    "## Resumen\n",
    "\n",
    "En este notebook practicamos distintas formas de trabajar con arreglos. En particular:\n",
    "\n",
    "* Crear un arreglo\n",
    "* Agregar elementos a un arreglo\n",
    "* Usar funciones que provee JavaScript para el trabajo con arreglos\n",
    "* Buscar en la web documentación relacionada con JavaScript.\n",
    "\n",
    "Para mayor información:\n",
    "\n",
    "Arreglo y Métodos: https://developer.mozilla.org/en-US/docs/Web/JavaScript/Reference/Global_Objects/Array/prototype"
   ]
  }
 ],
 "metadata": {
  "kernelspec": {
   "display_name": "NodeJS",
   "language": "javascript",
   "name": "nodejs"
  },
  "language_info": {
   "codemirror_mode": "javascript",
   "file_extension": ".js",
   "mimetype": "text/javascript",
   "name": "nodejs",
   "pygments_lexer": "javascript",
   "version": "0.10"
  }
 },
 "nbformat": 4,
 "nbformat_minor": 2
}
