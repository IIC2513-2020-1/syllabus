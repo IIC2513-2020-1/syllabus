{
 "cells": [
  {
   "cell_type": "markdown",
   "metadata": {},
   "source": [
    "# Tic Tac Toe (o el \"Gato\")\n",
    "\n",
    "En este notebook implementaremos el juego del gato (o Tic-Tac-Toe) para practicar conceptos de Javascript."
   ]
  },
  {
   "cell_type": "markdown",
   "metadata": {},
   "source": [
    "## Desplegar el tablero\n",
    "\n",
    "Implemente la función que despliega el tablero en consola. Recuerde que puede recorrer el arreglo, o bien, utilizar las funciones que vio en el notebook anterior.\n",
    "\n",
    "Si el tablero contendrá los valores `x`, `o` o `null`. Si tiene `null` en alguna de sus casillas, se debe imprimir vacío."
   ]
  },
  {
   "cell_type": "code",
   "execution_count": 1,
   "metadata": {},
   "outputs": [],
   "source": [
    "/**\n",
    " * Displays the board game\n",
    " * @param {Array} board\n",
    " */\n",
    "function displayBoard(board) {\n",
    "    // BEGIN SOLUTION\n",
    "    \n",
    "    // END SOLUTION\n",
    "}"
   ]
  },
  {
   "cell_type": "markdown",
   "metadata": {},
   "source": [
    "Puedes probar tu función con el siguiente código:"
   ]
  },
  {
   "cell_type": "code",
   "execution_count": 2,
   "metadata": {},
   "outputs": [
    {
     "name": "stdout",
     "output_type": "stream",
     "text": [
      "x | o |  \n",
      "----------\n",
      "x | x |  \n",
      "----------\n",
      "o | o |  \n"
     ]
    }
   ],
   "source": [
    "var boardTest = [\n",
    "    ['x', 'o', null],\n",
    "    ['x', 'x', null],\n",
    "    ['o', 'o', null],\n",
    "];\n",
    "displayBoard(boardTest);"
   ]
  },
  {
   "cell_type": "markdown",
   "metadata": {},
   "source": [
    "**Valor Esperado:**  \n",
    "\n",
    "```\n",
    "x | o |  \n",
    "----------\n",
    "x | x |  \n",
    "----------\n",
    "o | o |  \n",
    "```"
   ]
  },
  {
   "cell_type": "markdown",
   "metadata": {},
   "source": [
    "## Marcar posición\n",
    "\n",
    "Complete el siguiente método para marcar una posición. Retorna `true` si se pudo marcar (estaba vacía) o `false` en caso contrario."
   ]
  },
  {
   "cell_type": "code",
   "execution_count": 3,
   "metadata": {},
   "outputs": [],
   "source": [
    "/**\n",
    " * Mark position on board game\n",
    " * @param {Array} board\n",
    " * @param {number} row\n",
    " * @param {number} column\n",
    " * @param {string} 'x' or 'o'\n",
    " * @returns {bolean} true if the space was empty, false in other case\n",
    " */\n",
    "function markPosition(board, row, column, mark) {\n",
    "    // BEGIN SOLUTION\n",
    "    \n",
    "    // END SOLUTION\n",
    "}"
   ]
  },
  {
   "cell_type": "markdown",
   "metadata": {},
   "source": [
    "Puedes probar tu función con el siguiente código:"
   ]
  },
  {
   "cell_type": "code",
   "execution_count": 4,
   "metadata": {},
   "outputs": [
    {
     "name": "stdout",
     "output_type": "stream",
     "text": [
      "x | o |  \n",
      "----------\n",
      "x | x |  \n",
      "----------\n",
      "o | o |  \n",
      "false\n",
      "true\n",
      "x | o | o\n",
      "----------\n",
      "x | x |  \n",
      "----------\n",
      "o | o |  \n"
     ]
    }
   ],
   "source": [
    "var boardTest02 = [\n",
    "    ['x', 'o', null],\n",
    "    ['x', 'x', null],\n",
    "    ['o', 'o', null],\n",
    "];\n",
    "\n",
    "displayBoard(boardTest02);\n",
    "console.log(markPosition(boardTest02, 0, 0, 'x'));\n",
    "console.log(markPosition(boardTest02, 0, 2, 'o'));\n",
    "displayBoard(boardTest02);\n"
   ]
  },
  {
   "cell_type": "markdown",
   "metadata": {},
   "source": [
    "**Valor Esperado:**  \n",
    "```\n",
    "x | o |  \n",
    "----------\n",
    "x | x |  \n",
    "----------\n",
    "o | o |  \n",
    "false\n",
    "true\n",
    "x | o | o\n",
    "----------\n",
    "x | x |  \n",
    "----------\n",
    "o | o |  \n",
    "```"
   ]
  },
  {
   "cell_type": "markdown",
   "metadata": {},
   "source": [
    "## Determinar quién ganó\n",
    "\n",
    "También es importante saber quien ganó en este juego, para eso implemente la siguiente función que le permitirá saber quién ganó el juego.\n",
    "\n",
    "Para este caso, debe retornar `'x'`, `'o'` o `null`; si gana `x`, `o` o ninguno respectivamente."
   ]
  },
  {
   "cell_type": "code",
   "execution_count": 5,
   "metadata": {},
   "outputs": [],
   "source": [
    "/**\n",
    " * Returns who is the winner\n",
    " * @param {Array} board\n",
    " * @returns 'x' if player x wins, 'o' if player o wins or null in other case.\n",
    " */\n",
    "function whoIsTheWinner(board) {\n",
    "    // BEGIN SOLUTION\n",
    "    \n",
    "    // END SOLUTION\n",
    "}"
   ]
  },
  {
   "cell_type": "markdown",
   "metadata": {},
   "source": [
    "Puedes probar tu función con el siguiente código:"
   ]
  },
  {
   "cell_type": "code",
   "execution_count": 6,
   "metadata": {},
   "outputs": [
    {
     "name": "stdout",
     "output_type": "stream",
     "text": [
      "null\n",
      "x\n",
      "o\n"
     ]
    }
   ],
   "source": [
    "var boardTest03 = [\n",
    "    ['x', 'o', null],\n",
    "    ['x', 'x', 'o'],\n",
    "    ['o', 'o', null],\n",
    "];\n",
    "console.log(whoIsTheWinner(boardTest03));\n",
    "\n",
    "var boardTest03b = [\n",
    "    ['x', 'o', null],\n",
    "    ['x', 'x', null],\n",
    "    ['o', 'o', 'x'],\n",
    "];\n",
    "console.log(whoIsTheWinner(boardTest03b));\n",
    "\n",
    "var boardTest03b = [\n",
    "    ['x', 'o', null],\n",
    "    ['x', 'o', null],\n",
    "    ['o', 'o', 'x'],\n",
    "];\n",
    "console.log(whoIsTheWinner(boardTest03b));"
   ]
  },
  {
   "cell_type": "markdown",
   "metadata": {},
   "source": [
    "**Resultado esperado:**  \n",
    "```\n",
    "null\n",
    "x\n",
    "o\n",
    "```"
   ]
  },
  {
   "cell_type": "markdown",
   "metadata": {},
   "source": [
    "## Uniendo las piezas\n",
    "\n",
    "Ahora juntaremos todo lo anterior y realizaremos la simulación del juego\n",
    "\n",
    "Recuerde que:\n",
    "\n",
    "* Para generar un número entre `max` y `min`: `Math.floor(Math.random() * (max + 1)) + min;`"
   ]
  },
  {
   "cell_type": "code",
   "execution_count": 15,
   "metadata": {},
   "outputs": [],
   "source": [
    "function playGameSimulation(){\n",
    "    \n",
    "    const MAX_NUMBER_OF_MOVES = 9;\n",
    "    \n",
    "    const board = [\n",
    "        [null, null, null],\n",
    "        [null, null, null],\n",
    "        [null, null, null],\n",
    "    ];\n",
    "    \n",
    "    let currentPlayer = 'x';\n",
    "    \n",
    "    // BEGIN SOLUTION\n",
    "    \n",
    "    // Mientras hayan movimientos disponibles\n",
    "            \n",
    "        // Genero coordenadas de fila y columna al azar\n",
    "        let randomRow = undefined\n",
    "        let randomColumn = undefined\n",
    "        \n",
    "        // Trato de marcar en la posición de la fila y columna\n",
    "        {\n",
    "            //Si no puedo marcar en esa posición, genero nuevos valores para fila y columna,\n",
    "            // e intento realizar nuevamente la operación\n",
    "            \n",
    "        }\n",
    "        \n",
    "        // Reviso si hay un ganador\n",
    "        const winner = whoIsTheWinner(board);\n",
    "        if(winner) {\n",
    "            // Si existe muestro su marca, el tablero y termino\n",
    "            \n",
    "        }\n",
    "        \n",
    "        // Si no hay ganador, cambio la marca y muestro el tablero\n",
    "        \n",
    "    }\n",
    "    // END SOLUTION\n",
    "    \n",
    "}"
   ]
  },
  {
   "cell_type": "markdown",
   "metadata": {},
   "source": [
    "¡Puedes realizar una simulación con este código!"
   ]
  },
  {
   "cell_type": "code",
   "execution_count": 16,
   "metadata": {},
   "outputs": [
    {
     "name": "stdout",
     "output_type": "stream",
     "text": [
      "  |   | x\n",
      "----------\n",
      "  |   |  \n",
      "----------\n",
      "  |   |  \n",
      "\n",
      "  | o | x\n",
      "----------\n",
      "  |   |  \n",
      "----------\n",
      "  |   |  \n",
      "\n",
      "  | o | x\n",
      "----------\n",
      "x |   |  \n",
      "----------\n",
      "  |   |  \n",
      "\n",
      "o | o | x\n",
      "----------\n",
      "x |   |  \n",
      "----------\n",
      "  |   |  \n",
      "\n",
      "o | o | x\n",
      "----------\n",
      "x |   | x\n",
      "----------\n",
      "  |   |  \n",
      "\n",
      "o | o | x\n",
      "----------\n",
      "x | o | x\n",
      "----------\n",
      "  |   |  \n",
      "\n",
      "o | o | x\n",
      "----------\n",
      "x | o | x\n",
      "----------\n",
      "  | x |  \n",
      "\n",
      "Player o wins\n",
      "o | o | x\n",
      "----------\n",
      "x | o | x\n",
      "----------\n",
      "  | x | o\n"
     ]
    }
   ],
   "source": [
    "playGameSimulation();"
   ]
  }
 ],
 "metadata": {
  "kernelspec": {
   "display_name": "NodeJS",
   "language": "javascript",
   "name": "nodejs"
  },
  "language_info": {
   "codemirror_mode": "javascript",
   "file_extension": ".js",
   "mimetype": "text/javascript",
   "name": "nodejs",
   "pygments_lexer": "javascript",
   "version": "0.10"
  }
 },
 "nbformat": 4,
 "nbformat_minor": 2
}
