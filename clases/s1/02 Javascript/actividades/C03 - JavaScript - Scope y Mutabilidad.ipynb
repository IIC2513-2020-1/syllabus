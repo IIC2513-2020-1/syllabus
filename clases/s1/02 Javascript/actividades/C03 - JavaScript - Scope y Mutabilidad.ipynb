{
 "cells": [
  {
   "cell_type": "markdown",
   "metadata": {},
   "source": [
    "# Javascript - Scope\n",
    "\n",
    "Hoy veremos un tema que está relacionado con el acceso a variables. Por el momento sólo veremos casos simples, ya que posteriormente, a lo largo del curso, veremos otras propiedades de este lenguaje.\n",
    "\n",
    "Antes de ES6, las declaraciones `var` y `function` tienen scope de función. Desde el estándar antes mencionado, se ingresan las declaraciones con `let` y `const` que tienen scope de bloque.\n",
    "\n",
    "Actualmente el uso de `var` se ha visto bastante disminuído en favor de `let` y `const`. Estos nuevos \"amigos\" tienen un scope más controlado, lo que es menos propenso a errores. Además, evitan lo que se conoce como \"scope monster\".\n",
    "\n",
    "\n",
    "## ¡Intenta adivinar el resultado!\n",
    "\n",
    "A continuación veremos distintos ejemplos, la idea es que te anticipes al resultado de las salidas de los códigos a continuación.\n"
   ]
  },
  {
   "cell_type": "markdown",
   "metadata": {},
   "source": [
    "### Ejercicio 1\n",
    "\n",
    "El siguiente código tiene dos salidas ¿Cuáles son?"
   ]
  },
  {
   "cell_type": "code",
   "execution_count": null,
   "metadata": {
    "scrolled": true
   },
   "outputs": [],
   "source": [
    "var x = 5;\n",
    "console.log(x);\n",
    "function testOne() {\n",
    "    console.log(x);\n",
    "}\n",
    "\n",
    "testOne();"
   ]
  },
  {
   "cell_type": "markdown",
   "metadata": {},
   "source": [
    "### Ejercicio 2\n",
    "\n",
    "¿Fácil no? El siguiente código tiene tres salidas ¿Cuáles son?"
   ]
  },
  {
   "cell_type": "code",
   "execution_count": null,
   "metadata": {},
   "outputs": [],
   "source": [
    "var x = 5;\n",
    "console.log(x);\n",
    "function testOne() {\n",
    "    var y = 10;\n",
    "    y = x + 14;\n",
    "    console.log(y);\n",
    "}\n",
    "\n",
    "testOne();\n",
    "console.log(y);"
   ]
  },
  {
   "cell_type": "markdown",
   "metadata": {},
   "source": [
    "### Ejercicio 3\n",
    "\n",
    "El siguiente código tiene tres salidas ¿Cuáles son?"
   ]
  },
  {
   "cell_type": "code",
   "execution_count": null,
   "metadata": {},
   "outputs": [],
   "source": [
    "var x = 5;\n",
    "console.log(x);\n",
    "function testOne() {\n",
    "    x = x + 10;\n",
    "    console.log(x);\n",
    "}\n",
    "\n",
    "testOne();\n",
    "console.log(x);"
   ]
  },
  {
   "cell_type": "markdown",
   "metadata": {},
   "source": [
    "### Ejercicio 4\n",
    "\n",
    "El siguiente código tiene tres salidas ¿Cuáles son?"
   ]
  },
  {
   "cell_type": "code",
   "execution_count": null,
   "metadata": {},
   "outputs": [],
   "source": [
    "var x = 5;\n",
    "console.log(x);\n",
    "function testOne() {\n",
    "    var x = 10;\n",
    "    console.log(x);\n",
    "}\n",
    "\n",
    "testOne();\n",
    "console.log(x);"
   ]
  },
  {
   "cell_type": "markdown",
   "metadata": {},
   "source": [
    "### Ejercicio 5\n",
    "\n",
    "El siguiente código tiene cinco salidas ¿Cuáles son?"
   ]
  },
  {
   "cell_type": "code",
   "execution_count": null,
   "metadata": {},
   "outputs": [],
   "source": [
    "var x = 5;\n",
    "var z = 1;\n",
    "console.log(x);\n",
    "function testOne() {\n",
    "    var x = 2;\n",
    "    var y = 5;\n",
    "    var z = 2;\n",
    "    console.log(x);\n",
    "    if(x < 5) {\n",
    "        var z = 10;\n",
    "        console.log(z + y);\n",
    "    }\n",
    "    console.log(z);\n",
    "}\n",
    "\n",
    "testOne();\n",
    "console.log(x);"
   ]
  },
  {
   "cell_type": "markdown",
   "metadata": {},
   "source": [
    "Te das cuenta como empieza a **aparecer el \"scope monster\"** ¿A qué valor de `z` podría querer acceder dentro del `if`?"
   ]
  },
  {
   "cell_type": "markdown",
   "metadata": {},
   "source": [
    "## ¡Intenta adivinar el resultado! (Reloaded: con `let` y `const`)\n",
    "\n",
    "A continuación veremos distintos ejemplos pero ahora con `let` y `const`. Para estos casos **solo podrás correrlos UNA vez**, si quieres correrlos más veces tienes que reiniciar el kernel (En la barra de opciones `Kernel/Restart`)."
   ]
  },
  {
   "cell_type": "markdown",
   "metadata": {},
   "source": [
    "### Ejercicio 1\n",
    "\n",
    "El siguiente código tiene tres salidas ¿Cuáles son?"
   ]
  },
  {
   "cell_type": "code",
   "execution_count": null,
   "metadata": {},
   "outputs": [],
   "source": [
    "let e1 = 5;\n",
    "console.log(e1);\n",
    "function testOne() {\n",
    "    e1 = e1 + 3;\n",
    "    console.log(e1);\n",
    "}\n",
    "\n",
    "testOne();\n",
    "console.log(e1);"
   ]
  },
  {
   "cell_type": "markdown",
   "metadata": {},
   "source": [
    "### Ejercicio 2\n",
    "\n",
    "El siguiente código tiene tres salidas ¿Cuáles son?"
   ]
  },
  {
   "cell_type": "code",
   "execution_count": null,
   "metadata": {},
   "outputs": [],
   "source": [
    "const e2 = 5;\n",
    "console.log(e2);\n",
    "function testOne() {\n",
    "    e2 = e2 + 3;\n",
    "    console.log(e2);\n",
    "}\n",
    "\n",
    "testOne();\n",
    "console.log(e2);"
   ]
  },
  {
   "cell_type": "markdown",
   "metadata": {},
   "source": [
    "¿Qué pasó en este caso? ¿Por qué no funcionó como en el caso anterior si es prácticamente el mismo código?\n",
    "\n",
    "Bueno, esa es una de las diferencias entre `let` y `const`. Mientras el primero permite el cambio valor de la variable, el segundo la mantiene constante durante la ejecución, por lo que no es posible cambiar su valor. En caso que trates de hacerlo verás el mismo error de arriba, y esto es para protegerte de cambios que no quieres realizar."
   ]
  },
  {
   "cell_type": "markdown",
   "metadata": {},
   "source": [
    "### Ejercicio 3\n",
    "\n",
    "El siguiente código tiene cuatro salidas ¿Cuáles son?\n",
    "Compara este ejercicio con el ejercicio 5 de la sección anterior ¿Cuál es la diferencia del valor de `z3` después del `if`? ¿Pasaba esto en el ejercicio 5? ¿Por qué? La respuesta tiene que ver con el scope de bloque."
   ]
  },
  {
   "cell_type": "code",
   "execution_count": null,
   "metadata": {},
   "outputs": [],
   "source": [
    "const x3 = 5;\n",
    "let z3 = 1;\n",
    "console.log(x3);\n",
    "function testOne() {\n",
    "    let z3 = 2;\n",
    "    console.log(z3);\n",
    "    if(x3 >= 5) {\n",
    "        let z3 = 10;\n",
    "        console.log(z3);\n",
    "    }\n",
    "    console.log(z3);\n",
    "}\n",
    "\n",
    "testOne();"
   ]
  },
  {
   "cell_type": "markdown",
   "metadata": {},
   "source": [
    "# Javascript - Mutabilidad\n",
    "\n",
    "Es una propiedad de una variable de cambiar su estado sin cambiar su referencia. En JavaScript sólo los objetos y arreglos son mutables.\n",
    "\n",
    "## Ejemplos:"
   ]
  },
  {
   "cell_type": "code",
   "execution_count": null,
   "metadata": {},
   "outputs": [],
   "source": [
    "const exampleObject = {\n",
    "    identifier: 'IIC2513',\n",
    "    name: 'Tecnologías y Aplicaciones Web',\n",
    "}\n",
    "console.log(exampleObject);\n",
    "\n",
    "exampleObject.teacher = 'Gabriel Vidal';\n",
    "console.log(exampleObject);"
   ]
  },
  {
   "cell_type": "markdown",
   "metadata": {},
   "source": [
    "¿Cómo? ¿Por qué pudo modificar la variable si está declarada con `const`? **R:** Lo que pasa es que la variable no fue cambiada, sino que \"mutó\" añadiendo otra propiedad al objeto.\n",
    "\n",
    "Lo siguiente hubiese sido cambiar la variable (ejecuta el código):"
   ]
  },
  {
   "cell_type": "code",
   "execution_count": null,
   "metadata": {},
   "outputs": [],
   "source": [
    "const exampleObject2 = {\n",
    "    identifier: 'IIC2513',\n",
    "    name: 'Tecnologías y Aplicaciones Web',\n",
    "}\n",
    "\n",
    "const newExampleObject2 = {\n",
    "    identifier: 'IIC2513',\n",
    "    name: 'Tecnologías y Aplicaciones Web',\n",
    "}\n",
    "\n",
    "exampleObject2 = newExampleObject2; // Error!"
   ]
  },
  {
   "cell_type": "markdown",
   "metadata": {},
   "source": [
    "¿Aunque tengan los mismos valores? **R:** Sí, porque son dos objetos distintos.\n",
    "¿Y si `newExampleObject2` fuese:\n",
    "\n",
    "```javascript\n",
    "const newExampleObject2 = {\n",
    "    identifier: 'IIC1103',\n",
    "    name: 'Introducción a la programación',\n",
    "}\n",
    "```\n",
    "?\n",
    "**R:** Pasaría exactamente igual. Si no me crees pruébalo en este mismo notebook!\n",
    "\n",
    "**Ejercicio Propuesto:** Probar cambiando `const` por `let` y ver si es posible realizar la asignación.\n",
    "\n",
    "Ahora, mira lo que pasa con los arreglos:"
   ]
  },
  {
   "cell_type": "code",
   "execution_count": null,
   "metadata": {},
   "outputs": [],
   "source": [
    "const exampleArray = [1,2,3,4,5];\n",
    "console.log(exampleArray);\n",
    "\n",
    "exampleArray.push(6);\n",
    "console.log(exampleArray);\n",
    "\n",
    "const newExampleArray = [9,8,7,6];\n",
    "exampleArray = newExampleArray; // Error!"
   ]
  },
  {
   "cell_type": "markdown",
   "metadata": {},
   "source": [
    "# Resumen\n",
    "\n",
    "En este notebook pudimos aprender y ejercitar varios aspectos de JavaScript. En particular:\n",
    "\n",
    "* Scope de función y de bloque\n",
    "* Declaración de variables con `const` y `let`, e implicancias.\n",
    "* Objetos y arreglos\n",
    "* Mutabilidad\n",
    "\n",
    "Para mayor información:\n",
    "\n",
    "- Mutabilidad: https://developer.mozilla.org/en-US/docs/Glossary/Mutable\n",
    "- Scope: https://hackernoon.com/js-var-let-or-const-67e51dbb716f\n",
    "- `const`: https://developer.mozilla.org/en-US/docs/Web/JavaScript/Reference/Statements/const\n",
    "- `let`: https://developer.mozilla.org/en-US/docs/Web/JavaScript/Reference/Statements/let "
   ]
  }
 ],
 "metadata": {
  "kernelspec": {
   "display_name": "NodeJS",
   "language": "javascript",
   "name": "nodejs"
  },
  "language_info": {
   "codemirror_mode": "javascript",
   "file_extension": ".js",
   "mimetype": "text/javascript",
   "name": "nodejs",
   "pygments_lexer": "javascript",
   "version": "0.10"
  }
 },
 "nbformat": 4,
 "nbformat_minor": 2
}
