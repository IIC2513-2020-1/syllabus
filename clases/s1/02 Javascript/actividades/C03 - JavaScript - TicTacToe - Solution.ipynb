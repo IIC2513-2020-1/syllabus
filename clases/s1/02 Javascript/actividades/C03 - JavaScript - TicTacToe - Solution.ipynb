{
 "cells": [
  {
   "cell_type": "markdown",
   "metadata": {},
   "source": [
    "# Tic Tac Toe (o el \"Gato\")\n",
    "\n",
    "En este notebook implementaremos el juego del gato (o Tic-Tac-Toe) para practicar conceptos de Javascript."
   ]
  },
  {
   "cell_type": "markdown",
   "metadata": {},
   "source": [
    "## Desplegar el tablero\n",
    "\n",
    "Implemente la función que despliega el tablero en consola. Recuerde que puede recorrer el arreglo, o bien, utilizar las funciones que vio en el notebook anterior.\n",
    "\n",
    "Si el tablero contendrá los valores `x`, `o` o `null`. Si tiene `null` en alguna de sus casillas, se debe imprimir vacío."
   ]
  },
  {
   "cell_type": "code",
   "execution_count": 1,
   "metadata": {},
   "outputs": [],
   "source": [
    "/**\n",
    " * Displays the board game\n",
    " * @param {Array} board\n",
    " */\n",
    "function displayBoard(board) {\n",
    "    // BEGIN SOLUTION\n",
    "    board.forEach(function(row, index) {\n",
    "        if(index > 0) {\n",
    "           console.log('----------');\n",
    "        }\n",
    "        console.log(`${row[0] || ' '} | ${row[1] || ' '} | ${row[2] || ' '}`);\n",
    "    });\n",
    "    // END SOLUTION\n",
    "}"
   ]
  },
  {
   "cell_type": "markdown",
   "metadata": {},
   "source": [
    "Puedes probar tu función con el siguiente código:"
   ]
  },
  {
   "cell_type": "code",
   "execution_count": 2,
   "metadata": {},
   "outputs": [
    {
     "name": "stdout",
     "output_type": "stream",
     "text": [
      "x | o |  \n",
      "----------\n",
      "x | x |  \n",
      "----------\n",
      "o | o |  \n"
     ]
    }
   ],
   "source": [
    "var boardTest = [\n",
    "    ['x', 'o', null],\n",
    "    ['x', 'x', null],\n",
    "    ['o', 'o', null],\n",
    "];\n",
    "displayBoard(boardTest);"
   ]
  },
  {
   "cell_type": "markdown",
   "metadata": {},
   "source": [
    "**Valor Esperado:**  \n",
    "\n",
    "```\n",
    "x | o |  \n",
    "----------\n",
    "x | x |  \n",
    "----------\n",
    "o | o |  \n",
    "```"
   ]
  },
  {
   "cell_type": "markdown",
   "metadata": {},
   "source": [
    "## Marcar posición\n",
    "\n",
    "Complete el siguiente método para marcar una posición. Retorna `true` si se pudo marcar (estaba vacía) o `false` en caso contrario."
   ]
  },
  {
   "cell_type": "code",
   "execution_count": 3,
   "metadata": {},
   "outputs": [],
   "source": [
    "/**\n",
    " * Mark position on board game\n",
    " * @param {Array} board\n",
    " * @param {number} row\n",
    " * @param {number} column\n",
    " * @param {string} 'x' or 'o'\n",
    " * @returns {bolean} true if the space was empty, false in other case\n",
    " */\n",
    "function markPosition(board, row, column, mark) {\n",
    "    // BEGIN SOLUTION\n",
    "    if(!board[row][column]){\n",
    "        board[row][column] = mark;\n",
    "        return true;\n",
    "    }\n",
    "    \n",
    "    return false;\n",
    "    // END SOLUTION\n",
    "}"
   ]
  },
  {
   "cell_type": "markdown",
   "metadata": {},
   "source": [
    "Puedes probar tu función con el siguiente código:"
   ]
  },
  {
   "cell_type": "code",
   "execution_count": 4,
   "metadata": {},
   "outputs": [
    {
     "name": "stdout",
     "output_type": "stream",
     "text": [
      "x | o |  \n",
      "----------\n",
      "x | x |  \n",
      "----------\n",
      "o | o |  \n",
      "false\n",
      "true\n",
      "x | o | o\n",
      "----------\n",
      "x | x |  \n",
      "----------\n",
      "o | o |  \n"
     ]
    }
   ],
   "source": [
    "var boardTest02 = [\n",
    "    ['x', 'o', null],\n",
    "    ['x', 'x', null],\n",
    "    ['o', 'o', null],\n",
    "];\n",
    "\n",
    "displayBoard(boardTest02);\n",
    "console.log(markPosition(boardTest02, 0, 0, 'x'));\n",
    "console.log(markPosition(boardTest02, 0, 2, 'o'));\n",
    "displayBoard(boardTest02);\n"
   ]
  },
  {
   "cell_type": "markdown",
   "metadata": {},
   "source": [
    "**Valor Esperado:**  \n",
    "```\n",
    "x | o |  \n",
    "----------\n",
    "x | x |  \n",
    "----------\n",
    "o | o |  \n",
    "false\n",
    "true\n",
    "x | o | o\n",
    "----------\n",
    "x | x |  \n",
    "----------\n",
    "o | o |  \n",
    "```"
   ]
  },
  {
   "cell_type": "markdown",
   "metadata": {},
   "source": [
    "## Determinar quién ganó\n",
    "\n",
    "También es importante saber quien ganó en este juego, para eso implemente la siguiente función que le permitirá saber quién ganó el juego.\n",
    "\n",
    "Para este caso, debe retornar `'x'`, `'o'` o `null`; si gana `x`, `o` o ninguno respectivamente."
   ]
  },
  {
   "cell_type": "code",
   "execution_count": 5,
   "metadata": {},
   "outputs": [],
   "source": [
    "/**\n",
    " * Returns who is the winner\n",
    " * @param {Array} board\n",
    " * @returns 'x' if player x wins, 'o' if player o wins or null in other case.\n",
    " */\n",
    "function whoIsTheWinner(board) {\n",
    "    // BEGIN SOLUTION\n",
    "    // Horizontal\n",
    "    for(let i = 0; i < board.length; i++) {\n",
    "        if(board[i][0] === board[i][1] && board[i][1] === board[i][2] && board[i][2]) {\n",
    "            return board[i][0];\n",
    "        }\n",
    "    };\n",
    "        \n",
    "    // Vertical\n",
    "    for(let j = 0; j < board.length; j++) {\n",
    "        if(board[0][j] === board[1][j] && board[1][j] === board[2][j] && board[2][j]) {\n",
    "            return board[0][j];\n",
    "        }\n",
    "    };\n",
    "    \n",
    "    // Cross\n",
    "    if(board[0][0] === board[1][1] && board[1][1] === board[2][2] && board[2][2]) {\n",
    "        return board[0][0];\n",
    "    }\n",
    "    \n",
    "    if(board[0][3] === board[1][1] && board[1][1] === board[2][0] && board[2][0]) {\n",
    "        return board[0][0];\n",
    "    }\n",
    "    \n",
    "    return null;\n",
    "    // END SOLUTION\n",
    "}"
   ]
  },
  {
   "cell_type": "markdown",
   "metadata": {},
   "source": [
    "Puedes probar tu función con el siguiente código:"
   ]
  },
  {
   "cell_type": "code",
   "execution_count": 6,
   "metadata": {},
   "outputs": [
    {
     "name": "stdout",
     "output_type": "stream",
     "text": [
      "null\n",
      "x\n",
      "o\n"
     ]
    }
   ],
   "source": [
    "var boardTest03 = [\n",
    "    ['x', 'o', null],\n",
    "    ['x', 'x', 'o'],\n",
    "    ['o', 'o', null],\n",
    "];\n",
    "console.log(whoIsTheWinner(boardTest03));\n",
    "\n",
    "var boardTest03b = [\n",
    "    ['x', 'o', null],\n",
    "    ['x', 'x', null],\n",
    "    ['o', 'o', 'x'],\n",
    "];\n",
    "console.log(whoIsTheWinner(boardTest03b));\n",
    "\n",
    "var boardTest03b = [\n",
    "    ['x', 'o', null],\n",
    "    ['x', 'o', null],\n",
    "    ['o', 'o', 'x'],\n",
    "];\n",
    "console.log(whoIsTheWinner(boardTest03b));"
   ]
  },
  {
   "cell_type": "markdown",
   "metadata": {},
   "source": [
    "**Resultado esperado:**  \n",
    "```\n",
    "null\n",
    "x\n",
    "o\n",
    "```"
   ]
  },
  {
   "cell_type": "markdown",
   "metadata": {},
   "source": [
    "## Uniendo las piezas\n",
    "\n",
    "Ahora juntaremos todo lo anterior y realizaremos la simulación del juego\n",
    "\n",
    "Recuerde que:\n",
    "\n",
    "* Para generar un número entre `max` y `min`: `Math.floor(Math.random() * (max + 1)) + min;`"
   ]
  },
  {
   "cell_type": "code",
   "execution_count": 15,
   "metadata": {},
   "outputs": [],
   "source": [
    "function playGameSimulation(){\n",
    "    \n",
    "    const MAX_NUMBER_OF_MOVES = 9;\n",
    "    \n",
    "    const board = [\n",
    "        [null, null, null],\n",
    "        [null, null, null],\n",
    "        [null, null, null],\n",
    "    ];\n",
    "    \n",
    "    let currentPlayer = 'x';\n",
    "    \n",
    "    // BEGIN SOLUTION\n",
    "    for(let i = 0; i < MAX_NUMBER_OF_MOVES; i++){\n",
    "        let randomRow = Math.floor(Math.random() * (board.length));\n",
    "        let randomColumn = Math.floor(Math.random() * (board.length));\n",
    "        while(!markPosition(board, randomRow, randomColumn, currentPlayer)){\n",
    "            randomRow = Math.floor(Math.random() * (board.length));\n",
    "            randomColumn = Math.floor(Math.random() * (board.length));\n",
    "        }\n",
    "        \n",
    "        const winner = whoIsTheWinner(board);\n",
    "        if(winner) {\n",
    "            console.log(`Player ${currentPlayer} wins`);\n",
    "            displayBoard(board);\n",
    "            break;\n",
    "        }\n",
    "        \n",
    "        currentPlayer = currentPlayer === 'x' ? 'o' : 'x';\n",
    "        displayBoard(board);\n",
    "        console.log('');\n",
    "    }\n",
    "    // END SOLUTION\n",
    "    \n",
    "}"
   ]
  },
  {
   "cell_type": "markdown",
   "metadata": {},
   "source": [
    "¡Puedes realizar una simulación con este código!"
   ]
  },
  {
   "cell_type": "code",
   "execution_count": 16,
   "metadata": {},
   "outputs": [
    {
     "name": "stdout",
     "output_type": "stream",
     "text": [
      "  |   | x\n",
      "----------\n",
      "  |   |  \n",
      "----------\n",
      "  |   |  \n",
      "\n",
      "  | o | x\n",
      "----------\n",
      "  |   |  \n",
      "----------\n",
      "  |   |  \n",
      "\n",
      "  | o | x\n",
      "----------\n",
      "x |   |  \n",
      "----------\n",
      "  |   |  \n",
      "\n",
      "o | o | x\n",
      "----------\n",
      "x |   |  \n",
      "----------\n",
      "  |   |  \n",
      "\n",
      "o | o | x\n",
      "----------\n",
      "x |   | x\n",
      "----------\n",
      "  |   |  \n",
      "\n",
      "o | o | x\n",
      "----------\n",
      "x | o | x\n",
      "----------\n",
      "  |   |  \n",
      "\n",
      "o | o | x\n",
      "----------\n",
      "x | o | x\n",
      "----------\n",
      "  | x |  \n",
      "\n",
      "Player o wins\n",
      "o | o | x\n",
      "----------\n",
      "x | o | x\n",
      "----------\n",
      "  | x | o\n"
     ]
    }
   ],
   "source": [
    "playGameSimulation();"
   ]
  }
 ],
 "metadata": {
  "kernelspec": {
   "display_name": "NodeJS",
   "language": "javascript",
   "name": "nodejs"
  },
  "language_info": {
   "codemirror_mode": "javascript",
   "file_extension": ".js",
   "mimetype": "text/javascript",
   "name": "nodejs",
   "pygments_lexer": "javascript",
   "version": "0.10"
  }
 },
 "nbformat": 4,
 "nbformat_minor": 2
}
